{
 "cells": [
  {
   "cell_type": "markdown",
   "metadata": {},
   "source": [
    "## Clustering of songs to notice similar songs' features"
   ]
  },
  {
   "cell_type": "code",
   "execution_count": null,
   "metadata": {},
   "outputs": [],
   "source": [
    "#X = df_test[df_test.columns[6:18]]\n",
    "\n",
    "#In the following code we plot the samples in the 2D space where they live, as they are described by two attributes. \n",
    "\n",
    "fig = plt.figure(figsize=(7, 7))\n",
    "ax = fig.add_subplot(111)\n",
    "ax.set_aspect('equal')\n",
    "\n",
    "ax.scatter(X[:, 0], X[:, 1], edgecolor='black', c = 'w')\n",
    "\n",
    "ax.set_xlabel(iris.feature_names[0], fontsize=14)\n",
    "ax.set_ylabel(iris.feature_names[1], fontsize=14)\n",
    "ax.grid(alpha=0.3)\n",
    "ax.set_xlim(X[:, 0].min() - 0.5, X[:, 0].max() + 0.5)\n",
    "ax.set_ylim(X[:, 1].min() - 0.5, X[:, 1].max() + 0.5)\n",
    "plt.show()"
   ]
  }
 ],
 "metadata": {
  "kernelspec": {
   "display_name": "Python 3",
   "language": "python",
   "name": "python3"
  },
  "language_info": {
   "codemirror_mode": {
    "name": "ipython",
    "version": 3
   },
   "file_extension": ".py",
   "mimetype": "text/x-python",
   "name": "python",
   "nbconvert_exporter": "python",
   "pygments_lexer": "ipython3",
   "version": "3.9.6"
  }
 },
 "nbformat": 4,
 "nbformat_minor": 2
}
